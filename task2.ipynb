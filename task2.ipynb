{
 "cells": [
  {
   "cell_type": "code",
   "execution_count": 2,
   "source": [
    "from Bio import SeqIO\r\n",
    "genome_record = SeqIO.read(\"ecoli.gb\", \"genbank\")\r\n",
    "\r\n",
    "fhand = open('data2.txt','w')\r\n",
    "\r\n",
    "for feature in genome_record.features:\r\n",
    "    if feature.type == \"CDS\":\r\n",
    "        gene_sequence = feature.extract(genome_record.seq)\r\n",
    "        if 'join' in str(feature.location):\r\n",
    "            fhand.write(str(feature.location)+'\\n')\r\n",
    "            fhand.write(str(gene_sequence)+ '\\n\\n')\r\n"
   ],
   "outputs": [],
   "metadata": {}
  },
  {
   "cell_type": "code",
   "execution_count": 24,
   "source": [
    "def ReverseComplement(Pattern):\r\n",
    "    '''finds the reverse complement of a seq'''\r\n",
    "    Pattern = Pattern[::-1]\r\n",
    "    cmp=''\r\n",
    "    for i in Pattern:\r\n",
    "        if i=='A':\r\n",
    "            cmp=cmp+'T'\r\n",
    "        elif i=='T':\r\n",
    "            cmp=cmp+'A'\r\n",
    "        elif i=='G':\r\n",
    "            cmp=cmp+'C'\r\n",
    "        elif i=='C':\r\n",
    "            cmp=cmp+'G'\r\n",
    "    return cmp"
   ],
   "outputs": [],
   "metadata": {}
  },
  {
   "cell_type": "code",
   "execution_count": 25,
   "source": [
    "gbank = open('ecoli.gb')\r\n",
    "seq = open('E_coli.txt').read()\r\n",
    "\r\n",
    "for line in gbank.readlines():\r\n",
    "    line = line.strip()\r\n",
    "    if line.startswith('gene'):\r\n",
    "        line = line.split('            ')[1]\r\n",
    "        hasComplement = 1 if 'complement' in line else 0\r\n",
    "        PCS = ''\r\n",
    "        line = line.replace('complement(','').replace('join(','').replace(')','')\r\n",
    "        line = line.split(',')\r\n",
    "        try:\r\n",
    "            for pair in line: \r\n",
    "                pair = pair.strip().split('..')\r\n",
    "                start = int(pair[0]) - 1 \r\n",
    "                end = int(pair[1])\r\n",
    "                PCS += seq[start:end]\r\n",
    "            #print(start, end)\r\n",
    "            if hasComplement:\r\n",
    "                PCS = ReverseComplement(PCS) \r\n",
    "            #print(PCS)\r\n",
    "            #print('\\n\\n')\r\n",
    "        except:\r\n",
    "            print(\"Something went wrong. Working line: \",line)        \r\n",
    "\r\n",
    "gbank.close()\r\n"
   ],
   "outputs": [],
   "metadata": {}
  }
 ],
 "metadata": {
  "orig_nbformat": 4,
  "language_info": {
   "name": "python",
   "version": "3.8.2",
   "mimetype": "text/x-python",
   "codemirror_mode": {
    "name": "ipython",
    "version": 3
   },
   "pygments_lexer": "ipython3",
   "nbconvert_exporter": "python",
   "file_extension": ".py"
  },
  "kernelspec": {
   "name": "python3",
   "display_name": "Python 3.8.2 32-bit"
  },
  "interpreter": {
   "hash": "1e7ea4acda95b8ced6a6715337feb35195e80864984a64a08b1d2b4038b2bb85"
  }
 },
 "nbformat": 4,
 "nbformat_minor": 2
}